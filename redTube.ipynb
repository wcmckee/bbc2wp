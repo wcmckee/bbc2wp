{
 "metadata": {
  "name": "redTube"
 },
 "nbformat": 3,
 "nbformat_minor": 0,
 "worksheets": [
  {
   "cells": [
    {
     "cell_type": "heading",
     "level": 1,
     "metadata": {},
     "source": "RedTube json Python"
    },
    {
     "cell_type": "markdown",
     "metadata": {},
     "source": "'''\ncopyright 2013 WCMCKEE\napi@wcmckee.com\n'''"
    },
    {
     "cell_type": "code",
     "collapsed": false,
     "input": "",
     "language": "python",
     "metadata": {},
     "outputs": [],
     "prompt_number": 241
    },
    {
     "cell_type": "code",
     "collapsed": false,
     "input": "",
     "language": "python",
     "metadata": {},
     "outputs": [],
     "prompt_number": 241
    },
    {
     "cell_type": "code",
     "collapsed": false,
     "input": "import requests\nimport json\nimport random",
     "language": "python",
     "metadata": {},
     "outputs": [],
     "prompt_number": 274
    },
    {
     "cell_type": "markdown",
     "metadata": {},
     "source": "Requests and json are the two main modules used for this. Random can also be handy"
    },
    {
     "cell_type": "code",
     "collapsed": false,
     "input": "getPrn = requests.get('http://api.redtube.com/?output=json&data=redtube.Videos.searchVideos&page=1')",
     "language": "python",
     "metadata": {},
     "outputs": [],
     "prompt_number": 275
    },
    {
     "cell_type": "markdown",
     "metadata": {},
     "source": "Simple requests command to get the json object. This could be any json object - not just RedTube"
    },
    {
     "cell_type": "code",
     "collapsed": false,
     "input": "loaPrn = json.loads(getPrn.text)\n#print loaUrl",
     "language": "python",
     "metadata": {},
     "outputs": [],
     "prompt_number": 276
    },
    {
     "cell_type": "markdown",
     "metadata": {},
     "source": "Convert it into readable text that you can work with"
    },
    {
     "cell_type": "code",
     "collapsed": false,
     "input": "naoPrn = loaPrn[u'videos'][0]\nprint naoPrn",
     "language": "python",
     "metadata": {},
     "outputs": [
      {
       "output_type": "stream",
       "stream": "stdout",
       "text": "{u'video': {u'rating': u'0.00', u'thumb': u'http://img04.redtubefiles.com/_thumbs/0000548/0548861/0548861_004m.jpg', u'ratings': u'0', u'url': u'http://www.redtube.com/548861', u'views': 2, u'video_id': u'548861', u'publish_date': u'2013-09-24 11:21:31', u'stars': [{u'star_name': u'Sinn Sage'}], u'duration': u'26:46', u'title': u'Big tits lesbians playing with their toys', u'tags': [{u'tag_name': u'Big Tits'}, {u'tag_name': u'Brunette'}, {u'tag_name': u'Caucasian'}, {u'tag_name': u'Lesbian'}, {u'tag_name': u'Licking Vagina'}, {u'tag_name': u'Masturbation'}, {u'tag_name': u'Oral Sex'}, {u'tag_name': u'Shaved'}, {u'tag_name': u'Stockings'}, {u'tag_name': u'Strap-on'}, {u'tag_name': u'Toys'}, {u'tag_name': u'Vaginal Masturbation'}], u'default_thumb': u'http://img04.redtubefiles.com/_thumbs/0000548/0548861/0548861_004m.jpg'}}\n"
      }
     ],
     "prompt_number": 277
    },
    {
     "cell_type": "markdown",
     "metadata": {},
     "source": "Compress down - look at first element of json object. You could cycle through older elements\nby increasing the int"
    },
    {
     "cell_type": "code",
     "collapsed": false,
     "input": "ngePrn = naoPrn[u'video']\nprint ngePrn",
     "language": "python",
     "metadata": {},
     "outputs": [
      {
       "output_type": "stream",
       "stream": "stdout",
       "text": "{u'rating': u'0.00', u'thumb': u'http://img04.redtubefiles.com/_thumbs/0000548/0548861/0548861_004m.jpg', u'ratings': u'0', u'url': u'http://www.redtube.com/548861', u'views': 2, u'video_id': u'548861', u'publish_date': u'2013-09-24 11:21:31', u'stars': [{u'star_name': u'Sinn Sage'}], u'duration': u'26:46', u'title': u'Big tits lesbians playing with their toys', u'tags': [{u'tag_name': u'Big Tits'}, {u'tag_name': u'Brunette'}, {u'tag_name': u'Caucasian'}, {u'tag_name': u'Lesbian'}, {u'tag_name': u'Licking Vagina'}, {u'tag_name': u'Masturbation'}, {u'tag_name': u'Oral Sex'}, {u'tag_name': u'Shaved'}, {u'tag_name': u'Stockings'}, {u'tag_name': u'Strap-on'}, {u'tag_name': u'Toys'}, {u'tag_name': u'Vaginal Masturbation'}], u'default_thumb': u'http://img04.redtubefiles.com/_thumbs/0000548/0548861/0548861_004m.jpg'}\n"
      }
     ],
     "prompt_number": 278
    },
    {
     "cell_type": "markdown",
     "metadata": {},
     "source": "Compress down again - this time video. It's always a bit of a trial and error to figure out\nnavagating json objects, IPython is perfect for this. "
    },
    {
     "cell_type": "heading",
     "level": 2,
     "metadata": {},
     "source": "Individual Data!"
    },
    {
     "cell_type": "markdown",
     "metadata": {},
     "source": "This could be imporoved by turning the following unicode into a list and get the program\nto cycle though - saving off each element. Maybe save to a list?"
    },
    {
     "cell_type": "code",
     "collapsed": false,
     "input": "ratPrn = ngePrn[u'rating']",
     "language": "python",
     "metadata": {},
     "outputs": [],
     "prompt_number": 279
    },
    {
     "cell_type": "code",
     "collapsed": false,
     "input": "print popPrn",
     "language": "python",
     "metadata": {},
     "outputs": [
      {
       "output_type": "stream",
       "stream": "stdout",
       "text": "4.17\n"
      }
     ],
     "prompt_number": 280
    },
    {
     "cell_type": "code",
     "collapsed": false,
     "input": "thumPrn = ngePrn[u'thumb']",
     "language": "python",
     "metadata": {},
     "outputs": [],
     "prompt_number": 281
    },
    {
     "cell_type": "code",
     "collapsed": false,
     "input": "print thumPrn",
     "language": "python",
     "metadata": {},
     "outputs": [
      {
       "output_type": "stream",
       "stream": "stdout",
       "text": "http://img04.redtubefiles.com/_thumbs/0000548/0548861/0548861_004m.jpg\n"
      }
     ],
     "prompt_number": 282
    },
    {
     "cell_type": "code",
     "collapsed": false,
     "input": "ratPrn = ngePrn[u'ratings']\nprint ratPrn",
     "language": "python",
     "metadata": {},
     "outputs": [
      {
       "output_type": "stream",
       "stream": "stdout",
       "text": "0\n"
      }
     ],
     "prompt_number": 283
    },
    {
     "cell_type": "code",
     "collapsed": false,
     "input": "urlPrn = ngePrn[u'url']\nprint urlPrn",
     "language": "python",
     "metadata": {},
     "outputs": [
      {
       "output_type": "stream",
       "stream": "stdout",
       "text": "http://www.redtube.com/548861\n"
      }
     ],
     "prompt_number": 284
    },
    {
     "cell_type": "code",
     "collapsed": false,
     "input": "viwPrn = ngePrn[u'views']\nprint viwPrn",
     "language": "python",
     "metadata": {},
     "outputs": [
      {
       "output_type": "stream",
       "stream": "stdout",
       "text": "2\n"
      }
     ],
     "prompt_number": 285
    },
    {
     "cell_type": "code",
     "collapsed": false,
     "input": "idPrn = ngePrn[u'video_id']\nprint idPrn",
     "language": "python",
     "metadata": {},
     "outputs": [
      {
       "output_type": "stream",
       "stream": "stdout",
       "text": "548861\n"
      }
     ],
     "prompt_number": 286
    },
    {
     "cell_type": "code",
     "collapsed": false,
     "input": "pdaPrn = ngePrn[u'publish_date']\nprint pdaPrn",
     "language": "python",
     "metadata": {},
     "outputs": [
      {
       "output_type": "stream",
       "stream": "stdout",
       "text": "2013-09-24 11:21:31\n"
      }
     ],
     "prompt_number": 287
    },
    {
     "cell_type": "code",
     "collapsed": false,
     "input": "timPrn = ngePrn[u'duration']\nprint timPrn",
     "language": "python",
     "metadata": {},
     "outputs": [
      {
       "output_type": "stream",
       "stream": "stdout",
       "text": "26:46\n"
      }
     ],
     "prompt_number": 288
    },
    {
     "cell_type": "code",
     "collapsed": false,
     "input": "titPrn = ngePrn[u'title']\nprint titPrn",
     "language": "python",
     "metadata": {},
     "outputs": [
      {
       "output_type": "stream",
       "stream": "stdout",
       "text": "Big tits lesbians playing with their toys\n"
      }
     ],
     "prompt_number": 289
    },
    {
     "cell_type": "code",
     "collapsed": false,
     "input": "tagPrn = ngePrn[u'tags']\nprint tagPrn",
     "language": "python",
     "metadata": {},
     "outputs": [
      {
       "output_type": "stream",
       "stream": "stdout",
       "text": "[{u'tag_name': u'Big Tits'}, {u'tag_name': u'Brunette'}, {u'tag_name': u'Caucasian'}, {u'tag_name': u'Lesbian'}, {u'tag_name': u'Licking Vagina'}, {u'tag_name': u'Masturbation'}, {u'tag_name': u'Oral Sex'}, {u'tag_name': u'Shaved'}, {u'tag_name': u'Stockings'}, {u'tag_name': u'Strap-on'}, {u'tag_name': u'Toys'}, {u'tag_name': u'Vaginal Masturbation'}]\n"
      }
     ],
     "prompt_number": 290
    },
    {
     "cell_type": "code",
     "collapsed": false,
     "input": "derbPrn = (tagPrn, 'tag_name')\nprint derbPrn",
     "language": "python",
     "metadata": {},
     "outputs": [
      {
       "output_type": "stream",
       "stream": "stdout",
       "text": "([{u'tag_name': u'Big Tits'}, {u'tag_name': u'Brunette'}, {u'tag_name': u'Caucasian'}, {u'tag_name': u'Lesbian'}, {u'tag_name': u'Licking Vagina'}, {u'tag_name': u'Masturbation'}, {u'tag_name': u'Oral Sex'}, {u'tag_name': u'Shaved'}, {u'tag_name': u'Stockings'}, {u'tag_name': u'Strap-on'}, {u'tag_name': u'Toys'}, {u'tag_name': u'Vaginal Masturbation'}], 'tag_name')\n"
      }
     ],
     "prompt_number": 300
    },
    {
     "cell_type": "code",
     "collapsed": false,
     "input": "thNum = 0\ntaTrn = tagPrn[thNum]\nprint taTrn\nthNum + 1",
     "language": "python",
     "metadata": {},
     "outputs": [
      {
       "output_type": "stream",
       "stream": "stdout",
       "text": "{u'tag_name': u'Big Tits'}\n"
      },
      {
       "output_type": "pyout",
       "prompt_number": 291,
       "text": "1"
      }
     ],
     "prompt_number": 291
    },
    {
     "cell_type": "markdown",
     "metadata": {},
     "source": "TODO: Cycle the list and print all tags"
    },
    {
     "cell_type": "code",
     "collapsed": false,
     "input": "naTrn = taTrn['tag_name']\nprint naTrn",
     "language": "python",
     "metadata": {},
     "outputs": [
      {
       "output_type": "stream",
       "stream": "stdout",
       "text": "Big Tits\n"
      }
     ],
     "prompt_number": 292
    },
    {
     "cell_type": "code",
     "collapsed": false,
     "input": "",
     "language": "python",
     "metadata": {},
     "outputs": [],
     "prompt_number": 313
    },
    {
     "cell_type": "heading",
     "level": 2,
     "metadata": {},
     "source": "Saving Data"
    },
    {
     "cell_type": "markdown",
     "metadata": {},
     "source": ""
    },
    {
     "cell_type": "code",
     "collapsed": false,
     "input": "savPrn = open('savPrn','w')\nsavPrn.write('<h3 style=\"text-align: center;\"><a href=\"' + urlPrn + '\">')\nsavPrn.write(titPrn + '</a></h3>')\nsavPrn.write('<p style=\"text-align: right;\">' + pdaPrn)\nsavPrn.write('</a></h3><img class=\"aligncenter\" alt=\"null\" src=\"' + thumPrn)\nsavPrn.write('\" />')\nsavPrn.close()",
     "language": "python",
     "metadata": {},
     "outputs": [],
     "prompt_number": 324
    },
    {
     "cell_type": "code",
     "collapsed": false,
     "input": "savTub",
     "language": "python",
     "metadata": {},
     "outputs": []
    },
    {
     "cell_type": "code",
     "collapsed": false,
     "input": "ls",
     "language": "python",
     "metadata": {},
     "outputs": [
      {
       "output_type": "stream",
       "stream": "stdout",
       "text": "jsonBehind.ipynb  pressBbc.py  savBbc   savPrn\r\njsonEdit.py       README.md    savFile  tacBbc\r\n"
      }
     ],
     "prompt_number": 327
    },
    {
     "cell_type": "code",
     "collapsed": false,
     "input": "opPrn = open('savPrn','r')\nfor op in opPrn:\n    print op",
     "language": "python",
     "metadata": {},
     "outputs": [
      {
       "output_type": "stream",
       "stream": "stdout",
       "text": "<h3 style=\"text-align: center;\"><a href=\"http://www.redtube.com/548861\">Big tits lesbians playing with their toys</a></h3><p style=\"text-align: right;\">2013-09-24 11:21:31</a></h3><img class=\"aligncenter\" alt=\"null\" src=\"http://img04.redtubefiles.com/_thumbs/0000548/0548861/0548861_004m.jpg\" />\n"
      }
     ],
     "prompt_number": 326
    },
    {
     "cell_type": "code",
     "collapsed": false,
     "input": "",
     "language": "python",
     "metadata": {},
     "outputs": [],
     "prompt_number": 269
    },
    {
     "cell_type": "code",
     "collapsed": false,
     "input": "",
     "language": "python",
     "metadata": {},
     "outputs": []
    }
   ],
   "metadata": {}
  }
 ]
}