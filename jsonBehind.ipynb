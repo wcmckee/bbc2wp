{
 "metadata": {
  "name": "json"
 },
 "nbformat": 3,
 "nbformat_minor": 0,
 "worksheets": [
  {
   "cells": [
    {
     "cell_type": "heading",
     "level": 1,
     "metadata": {},
     "source": "json data"
    },
    {
     "cell_type": "code",
     "collapsed": false,
     "input": "import requests\nimport json\nimport random\nimport time\nimport os\nimport pprint\nfrom numpy import *",
     "language": "python",
     "metadata": {},
     "outputs": [],
     "prompt_number": 1
    },
    {
     "cell_type": "heading",
     "level": 2,
     "metadata": {},
     "source": "BBC NEWS"
    },
    {
     "cell_type": "code",
     "collapsed": false,
     "input": "getTop = requests.get(u'http://api.bbcnews.appengine.co.uk/topics')\noldTop = json.loads(getTop.text)\n#print oldTop",
     "language": "python",
     "metadata": {},
     "outputs": [],
     "prompt_number": 221
    },
    {
     "cell_type": "code",
     "collapsed": false,
     "input": "woTop = random.randint(1,12)",
     "language": "python",
     "metadata": {},
     "outputs": [],
     "prompt_number": 222
    },
    {
     "cell_type": "code",
     "collapsed": false,
     "input": "catTop = blaTop[woTop]\nprint catTop",
     "language": "python",
     "metadata": {},
     "outputs": [
      {
       "output_type": "stream",
       "stream": "stdout",
       "text": "{u'id': u'business', u'title': u'Business'}\n"
      }
     ],
     "prompt_number": 223
    },
    {
     "cell_type": "code",
     "collapsed": false,
     "input": "idTop = catTop['id']\nprint idTop",
     "language": "python",
     "metadata": {},
     "outputs": [
      {
       "output_type": "stream",
       "stream": "stdout",
       "text": "business\n"
      }
     ],
     "prompt_number": 224
    },
    {
     "cell_type": "code",
     "collapsed": false,
     "input": "urBbc = ('http://api.bbcnews.appengine.co.uk/stories/' + idTop)\n#print urBbc\ngetBbc = requests.get(urBbc)\noldBbc = json.loads(getBbc.text)\n#print oldBbc\n\n",
     "language": "python",
     "metadata": {},
     "outputs": [],
     "prompt_number": 225
    },
    {
     "cell_type": "code",
     "collapsed": false,
     "input": "ehhBbc = oldBbc[u'topic'][u'title']\nprint ehhBbc",
     "language": "python",
     "metadata": {},
     "outputs": [
      {
       "output_type": "stream",
       "stream": "stdout",
       "text": "Business\n"
      }
     ],
     "prompt_number": 226
    },
    {
     "cell_type": "code",
     "collapsed": false,
     "input": "storBbc = oldBbc[u'stories']",
     "language": "python",
     "metadata": {},
     "outputs": [],
     "prompt_number": 227
    },
    {
     "cell_type": "code",
     "collapsed": false,
     "input": "#print storBbc",
     "language": "python",
     "metadata": {},
     "outputs": [],
     "prompt_number": 228
    },
    {
     "cell_type": "code",
     "collapsed": false,
     "input": "faiBbc = storBbc[0]\nprint faiBbc",
     "language": "python",
     "metadata": {},
     "outputs": [
      {
       "output_type": "stream",
       "stream": "stdout",
       "text": "{u'thumbnail': u'http://news.bbcimg.co.uk/media/images/70057000/jpg/_70057195_70057137.jpg', u'published': 1379891109, u'link': u'http://www.bbc.co.uk/news/business-24194720#sa-ns_mchannel=rss&ns_source=PublicRSS20-sa', u'description': u'Building Societies are \"well placed\" to benefit from an economic recovery, and are showing \"healthy\" profits, says the accountancy firm KPMG.', u'title': u\"Building societies 'are healthy'\"}\n"
      }
     ],
     "prompt_number": 229
    },
    {
     "cell_type": "code",
     "collapsed": false,
     "input": "thumBbc = faiBbc[u'thumbnail']\n\nprint thumBbc",
     "language": "python",
     "metadata": {},
     "outputs": [
      {
       "output_type": "stream",
       "stream": "stdout",
       "text": "http://news.bbcimg.co.uk/media/images/70057000/jpg/_70057195_70057137.jpg\n"
      }
     ],
     "prompt_number": 230
    },
    {
     "cell_type": "code",
     "collapsed": false,
     "input": "\ntitlBbc = faiBbc[u'title']\nprint titlBbc",
     "language": "python",
     "metadata": {},
     "outputs": [
      {
       "output_type": "stream",
       "stream": "stdout",
       "text": "Building societies 'are healthy'\n"
      }
     ],
     "prompt_number": 231
    },
    {
     "cell_type": "code",
     "collapsed": false,
     "input": "desBbc = faiBbc[u'description']\nprint desBbc",
     "language": "python",
     "metadata": {},
     "outputs": [
      {
       "output_type": "stream",
       "stream": "stdout",
       "text": "Building Societies are \"well placed\" to benefit from an economic recovery, and are showing \"healthy\" profits, says the accountancy firm KPMG.\n"
      }
     ],
     "prompt_number": 232
    },
    {
     "cell_type": "code",
     "collapsed": false,
     "input": "linBbc = faiBbc['link']\nprint linBbc",
     "language": "python",
     "metadata": {},
     "outputs": [
      {
       "output_type": "stream",
       "stream": "stdout",
       "text": "http://www.bbc.co.uk/news/business-24194720#sa-ns_mchannel=rss&ns_source=PublicRSS20-sa\n"
      }
     ],
     "prompt_number": 233
    },
    {
     "cell_type": "code",
     "collapsed": false,
     "input": "pubBbc = faiBbc['published']",
     "language": "python",
     "metadata": {},
     "outputs": [],
     "prompt_number": 234
    },
    {
     "cell_type": "code",
     "collapsed": false,
     "input": "print pubBbc",
     "language": "python",
     "metadata": {},
     "outputs": [
      {
       "output_type": "stream",
       "stream": "stdout",
       "text": "1379891109\n"
      }
     ],
     "prompt_number": 235
    },
    {
     "cell_type": "code",
     "collapsed": false,
     "input": "blaTop = oldTop['topics']\nprint blaTop\n\ncouId = list.count(blaTop, \"{\")\nprint couId",
     "language": "python",
     "metadata": {},
     "outputs": [
      {
       "output_type": "stream",
       "stream": "stdout",
       "text": "[{u'id': u'headlines', u'title': u'Headlines'}, {u'id': u'world', u'title': u'World'}, {u'id': u'science_and_environment', u'title': u'Science'}, {u'id': u'technology', u'title': u'Technology'}, {u'id': u'entertainment_and_arts', u'title': u'Entertainment'}, {u'id': u'business', u'title': u'Business'}, {u'id': u'politics', u'title': u'Politics'}, {u'id': u'health', u'title': u'Health'}, {u'id': u'education', u'title': u'Education'}, {u'id': u'uk', u'title': u'UK'}, {u'id': u'england', u'title': u'England'}, {u'id': u'scotland', u'title': u'Scotland'}, {u'id': u'wales', u'title': u'Wales'}]\n0\n"
      }
     ],
     "prompt_number": 236
    },
    {
     "cell_type": "code",
     "collapsed": false,
     "input": "savBbc = open('savBbc','w')\nsavBbc.write('<h1 style=\"text-align: center;\"><strong>')\nsavBbc.write(ehhBbc)\nsavBbc.write('</strong></h1><h2 style=\"text-align: center;\\\"><a href=\\\"')\nsavBbc.write(linBbc)\nsavBbc.write('\"><strong>')\nsavBbc.write(titlBbc)\nsavBbc.write('</strong></a></h2><p style=\"text-align: justify;\">')\nsavBbc.write(desBbc)\nsavBbc.write('</p><img class=\"aligncenter\" alt=\"\" src=\"')\nsavBbc.write(thumBbc)\nsavBbc.write('\" />')\nsavBbc.close()\n\ntacBbc = open('tacBbc','w')\ntacBbc.write(titlBbc)\ntacBbc.close()\n",
     "language": "python",
     "metadata": {},
     "outputs": [],
     "prompt_number": 237
    },
    {
     "cell_type": "code",
     "collapsed": false,
     "input": "opnBbc = ('savBbc','r')\nfor opn in opnBbc:\n    print(opn)",
     "language": "python",
     "metadata": {},
     "outputs": [
      {
       "output_type": "stream",
       "stream": "stdout",
       "text": "savBbc\nr\n"
      }
     ],
     "prompt_number": 238
    },
    {
     "cell_type": "code",
     "collapsed": false,
     "input": "ls",
     "language": "python",
     "metadata": {},
     "outputs": [
      {
       "output_type": "stream",
       "stream": "stdout",
       "text": "doc         pressBbc.py  savFile       TradePress.py\r\njson.ipynb  random       tacBbc        tradeTitle\r\nLastData    README.md    titleData     twitter.txt\r\n\u001b[0m\u001b[01;34mmysite\u001b[0m/     redditdrawn  tradeData     wordpress_xmlrpc\r\nopenArt     redDrawn.py  tradeLast.py\r\npprint      savBbc       trademe.py\r\n"
      }
     ],
     "prompt_number": 207
    },
    {
     "cell_type": "code",
     "collapsed": false,
     "input": "",
     "language": "python",
     "metadata": {},
     "outputs": [
      {
       "ename": "NameError",
       "evalue": "name 'twitter' is not defined",
       "output_type": "pyerr",
       "traceback": [
        "\u001b[0;31m---------------------------------------------------------------------------\u001b[0m\n\u001b[0;31mNameError\u001b[0m                                 Traceback (most recent call last)",
        "\u001b[0;32m<ipython-input-152-2766261fd348>\u001b[0m in \u001b[0;36m<module>\u001b[0;34m()\u001b[0m\n\u001b[0;32m----> 1\u001b[0;31m \u001b[0mtwitter\u001b[0m\u001b[0;34m\u001b[0m\u001b[0m\n\u001b[0m",
        "\u001b[0;31mNameError\u001b[0m: name 'twitter' is not defined"
       ]
      }
     ],
     "prompt_number": 152
    },
    {
     "cell_type": "heading",
     "level": 1,
     "metadata": {},
     "source": "ArtControl, BroBeur, FreshFigure, WCMCKEE - json"
    },
    {
     "cell_type": "code",
     "collapsed": false,
     "input": "ranUrl = random.randint(0,3)\nmyUrl = ('artcontrol.me', 'freshfigure.com/art', 'brobeur.com', 'wcmckee.com')\nfulUrl = myUrl[ranUrl]\nprint fulUrl\n",
     "language": "python",
     "metadata": {},
     "outputs": [
      {
       "output_type": "stream",
       "stream": "stdout",
       "text": "artcontrol.me\n"
      }
     ],
     "prompt_number": 32
    },
    {
     "cell_type": "code",
     "collapsed": false,
     "input": "comUrl = ('http://' + fulUrl + '/?wpapi=get_posts&dev=0')\nprint comUrl",
     "language": "python",
     "metadata": {},
     "outputs": [
      {
       "output_type": "stream",
       "stream": "stdout",
       "text": "http://artcontrol.me/?wpapi=get_posts&dev=0\n"
      }
     ],
     "prompt_number": 33
    },
    {
     "cell_type": "code",
     "collapsed": false,
     "input": "getArt = requests.get(comUrl)\noldArt = json.loads(getArt.text)\n#print oldBbc\nanoArt = oldArt[u'posts']\n#print anoArt\n\ntitArt = anoArt[0]\nprint titArt",
     "language": "python",
     "metadata": {},
     "outputs": [
      {
       "output_type": "stream",
       "stream": "stdout",
       "text": "{u'status': u'publish', u'category': [{u'term_group': u'0', u'count': u'25', u'name': u'Digital Painting', u'parent': u'0', u'term_id': u'169', u'cat_ID': u'169', u'category_description': u'', u'category_parent': u'0', u'cat_name': u'Digital Painting', u'category_count': u'25', u'term_taxonomy_id': u'181', u'taxonomy': u'category', u'category_nicename': u'digpaint', u'slug': u'digpaint', u'description': u''}], u'name': u'trademe-and-portraits', u'parent': u'0', u'title': u'trademe and portraits', u'url': u'http://artcontrol.me/?p=5204', u'author': [{u'first_name': u'Will', u'last_name': u'mckee', u'name': u'Will', u'nicename': u'wmckee', u'url': u'', u'slug': u'wmckee', u'gravatar': u'http://www.gravatar.com/avatar/5e2931ce807064cea9fc263f5346ad86?s=100&d=mm&r=g', u'id': u'1', u'description': u''}], u'excerpt': u\"Hello. I've setup my laptop to run GIMP the same way as my desktop. This frees up my desktop for other uses.\\r\\n\\r\\nHere are several paintings I've done recently in GIMP (running\", u'modified': u'2013-09-10 19:45:27', u'slug': u'trademe and portraits', u'comment_count': u'0', u'tag': [{u'term_group': u'0', u'count': u'84', u'name': u'GIMP', u'parent': u'0', u'term_id': u'59', u'term_taxonomy_id': u'60', u'taxonomy': u'post_tag', u'slug': u'gimp', u'description': u''}, {u'term_group': u'0', u'count': u'1', u'name': u'Linux Mint', u'parent': u'0', u'term_id': u'214', u'term_taxonomy_id': u'234', u'taxonomy': u'post_tag', u'slug': u'linux-mint', u'description': u''}, {u'term_group': u'0', u'count': u'1', u'name': u'trademe', u'parent': u'0', u'term_id': u'213', u'term_taxonomy_id': u'233', u'taxonomy': u'post_tag', u'slug': u'trademe', u'description': u''}], u'date': u'2013-09-10 19:45:27', u'type': u'post', u'id': u'5204', u'comment_status': u'open'}\n"
      }
     ],
     "prompt_number": 34
    },
    {
     "cell_type": "code",
     "collapsed": false,
     "input": "exArt = titArt[u'excerpt']",
     "language": "python",
     "metadata": {},
     "outputs": [],
     "prompt_number": 35
    },
    {
     "cell_type": "code",
     "collapsed": false,
     "input": "print exArt\n",
     "language": "python",
     "metadata": {},
     "outputs": [
      {
       "output_type": "stream",
       "stream": "stdout",
       "text": "Hello. I've setup my laptop to run GIMP the same way as my desktop. This frees up my desktop for other uses.\r\n\r\nHere are several paintings I've done recently in GIMP (running\n"
      }
     ],
     "prompt_number": 37
    },
    {
     "cell_type": "code",
     "collapsed": false,
     "input": "namArt = titArt[u'title']\nprint namArt\n\n",
     "language": "python",
     "metadata": {},
     "outputs": [
      {
       "output_type": "stream",
       "stream": "stdout",
       "text": "trademe and portraits\n"
      }
     ],
     "prompt_number": 38
    },
    {
     "cell_type": "code",
     "collapsed": false,
     "input": "",
     "language": "python",
     "metadata": {},
     "outputs": [],
     "prompt_number": 38
    },
    {
     "cell_type": "code",
     "collapsed": false,
     "input": "",
     "language": "python",
     "metadata": {},
     "outputs": [],
     "prompt_number": 38
    },
    {
     "cell_type": "code",
     "collapsed": false,
     "input": "urlArt = titArt[u'url']\nprint urlArt",
     "language": "python",
     "metadata": {},
     "outputs": [
      {
       "output_type": "stream",
       "stream": "stdout",
       "text": "http://artcontrol.me/?p=5204\n"
      }
     ],
     "prompt_number": 39
    },
    {
     "cell_type": "code",
     "collapsed": false,
     "input": "datArt = titArt[u'date']\nprint datArt",
     "language": "python",
     "metadata": {},
     "outputs": [
      {
       "output_type": "stream",
       "stream": "stdout",
       "text": "2013-09-10 19:45:27\n"
      }
     ],
     "prompt_number": 40
    },
    {
     "cell_type": "code",
     "collapsed": false,
     "input": "sluArt = titArt['slug']\nprint sluArt",
     "language": "python",
     "metadata": {},
     "outputs": [
      {
       "output_type": "stream",
       "stream": "stdout",
       "text": "trademe and portraits\n"
      }
     ],
     "prompt_number": 41
    },
    {
     "cell_type": "code",
     "collapsed": false,
     "input": "parArt = titArt['parent']\nprint parArt",
     "language": "python",
     "metadata": {},
     "outputs": [
      {
       "output_type": "stream",
       "stream": "stdout",
       "text": "0\n"
      }
     ],
     "prompt_number": 42
    },
    {
     "cell_type": "code",
     "collapsed": false,
     "input": "savFile = open('savFile','w')\nsavFile.write(namArt)\nsavFile.write(' - ')\nsavFile.write(exArt)\nsavFile.write(datArt)\nsavFile.close()",
     "language": "python",
     "metadata": {},
     "outputs": [],
     "prompt_number": 43
    },
    {
     "cell_type": "code",
     "collapsed": false,
     "input": "opeFile = open('savFile','r')\nfor file in opeFile:\n    print file",
     "language": "python",
     "metadata": {},
     "outputs": [
      {
       "output_type": "stream",
       "stream": "stdout",
       "text": "trademe and portraits - Hello. I've setup my laptop to run GIMP the same way as my desktop. This frees up my desktop for other uses.\r\n\n\r\n\nHere are several paintings I've done recently in GIMP (running2013-09-10 19:45:27\n"
      }
     ],
     "prompt_number": 44
    },
    {
     "cell_type": "code",
     "collapsed": false,
     "input": "n = random.randint(1,20)\nprint n",
     "language": "python",
     "metadata": {},
     "outputs": [
      {
       "output_type": "stream",
       "stream": "stdout",
       "text": "2\n"
      }
     ],
     "prompt_number": 45
    },
    {
     "cell_type": "code",
     "collapsed": false,
     "input": "timNum = random.randint(1,12)\nprint timNum",
     "language": "python",
     "metadata": {},
     "outputs": [
      {
       "output_type": "stream",
       "stream": "stdout",
       "text": "4\n"
      }
     ],
     "prompt_number": 67
    },
    {
     "cell_type": "code",
     "collapsed": false,
     "input": "x = timNum * n\nprint x",
     "language": "python",
     "metadata": {},
     "outputs": [
      {
       "output_type": "stream",
       "stream": "stdout",
       "text": "60\n"
      }
     ],
     "prompt_number": 68
    },
    {
     "cell_type": "code",
     "collapsed": false,
     "input": "lisNum = [n, timNum, x]\nprint lisNum",
     "language": "python",
     "metadata": {},
     "outputs": [
      {
       "output_type": "stream",
       "stream": "stdout",
       "text": "[15, 4, 60]\n"
      }
     ],
     "prompt_number": 69
    },
    {
     "cell_type": "code",
     "collapsed": false,
     "input": "derbNum = list.sort(lisNum)\nprint derbNum",
     "language": "python",
     "metadata": {},
     "outputs": [
      {
       "output_type": "stream",
       "stream": "stdout",
       "text": "None\n"
      }
     ],
     "prompt_number": 70
    },
    {
     "cell_type": "code",
     "collapsed": false,
     "input": "print lisNum",
     "language": "python",
     "metadata": {},
     "outputs": [
      {
       "output_type": "stream",
       "stream": "stdout",
       "text": "[4, 15, 60]\n"
      }
     ],
     "prompt_number": 71
    }
   ],
   "metadata": {}
  }
 ]
}